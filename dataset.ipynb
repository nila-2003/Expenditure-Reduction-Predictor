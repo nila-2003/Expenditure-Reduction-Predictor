{
  "nbformat": 4,
  "nbformat_minor": 0,
  "metadata": {
    "colab": {
      "provenance": []
    },
    "kernelspec": {
      "name": "python3",
      "display_name": "Python 3"
    },
    "language_info": {
      "name": "python"
    }
  },
  "cells": [
    {
      "cell_type": "code",
      "execution_count": 1,
      "metadata": {
        "id": "4M0nSuLLtU3J",
        "outputId": "a59235e3-67f6-4c82-ee09-478ac2e81d8d",
        "colab": {
          "base_uri": "https://localhost:8080/"
        }
      },
      "outputs": [
        {
          "output_type": "stream",
          "name": "stdout",
          "text": [
            "   Initial Price Vendor Category  Vendor Price  Markup  Final Price\n",
            "0      62.976892           decor     49.650184     0.2    72.906929\n",
            "1      83.476020           music     32.172763     0.2    89.910573\n",
            "2      95.588556           decor     41.711171     0.2   103.930790\n",
            "3      61.364004        catering     39.531763     0.2    69.270356\n",
            "4      29.626988           decor     17.028459     0.2    33.032680\n"
          ]
        }
      ],
      "source": [
        "import pandas as pd\n",
        "import numpy as np\n",
        "\n",
        "num_data_points = 1000\n",
        "\n",
        "initial_prices = np.random.uniform(10, 100, num_data_points)\n",
        "\n",
        "vendor_categories = np.random.choice(['decor', 'bakery', 'catering', 'music'], num_data_points)\n",
        "\n",
        "vendor_prices = np.random.uniform(5, 50, num_data_points)\n",
        "\n",
        "# fixed markup for profit (20%)\n",
        "markup = 0.2\n",
        "total_prices = initial_prices + (vendor_prices * markup)\n",
        "\n",
        "data = pd.DataFrame({\n",
        "    'Initial Price': initial_prices,\n",
        "    'Vendor Category': vendor_categories,\n",
        "    'Vendor Price': vendor_prices,\n",
        "    'Markup': markup,\n",
        "    'Final Price': total_prices\n",
        "})\n",
        "\n",
        "print(data.head())\n",
        "\n",
        "data.to_csv('/content/pricing_dataset.csv', index=False)"
      ]
    },
    {
      "cell_type": "code",
      "source": [],
      "metadata": {
        "id": "hyL2sD_htWbj"
      },
      "execution_count": null,
      "outputs": []
    }
  ]
}